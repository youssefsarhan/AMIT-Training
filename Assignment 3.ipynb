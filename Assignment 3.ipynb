{
 "cells": [
  {
   "cell_type": "markdown",
   "metadata": {},
   "source": [
    "# Assignment 3"
   ]
  },
  {
   "cell_type": "markdown",
   "metadata": {},
   "source": [
    "### Write a function to count the number 4 in a given list."
   ]
  },
  {
   "cell_type": "code",
   "execution_count": 1,
   "metadata": {},
   "outputs": [
    {
     "name": "stdout",
     "output_type": "stream",
     "text": [
      "6\n"
     ]
    }
   ],
   "source": [
    "# This function count number 4 in a given list\n",
    "\n",
    "list1=[1,4,5,4,8,8,4,9,4,4,6,4]\n",
    "\n",
    "def count_num_4 (list1):\n",
    "    \n",
    "    #start count from 0\n",
    "    \n",
    "    counter = 0 \n",
    "    \n",
    "    for num  in list1 :\n",
    "        \n",
    "        if num == 4 : \n",
    "            \n",
    "            # if number = 4 add 1 on the counter\n",
    "            \n",
    "            counter = counter + 1 \n",
    "            \n",
    "    return counter\n",
    "\n",
    "print(count_num_4(list1))"
   ]
  },
  {
   "cell_type": "markdown",
   "metadata": {},
   "source": [
    "### write a  function to check whether a number is divisible by another number."
   ]
  },
  {
   "cell_type": "code",
   "execution_count": 2,
   "metadata": {},
   "outputs": [
    {
     "name": "stdout",
     "output_type": "stream",
     "text": [
      "enter the largest number: 50\n",
      "enter the smalest number: 5\n",
      "true: 50 divisible  5 ,   Divide the two numbers = 10.0 \n"
     ]
    }
   ],
   "source": [
    "# this function to check the number is divisible by another number\n",
    "\n",
    "def check_number( num1 , num2 ):\n",
    "        \n",
    "    if num1 % num2 == 0 :\n",
    "        \n",
    "            return ('true: {} divisible  {} ,   Divide the two numbers = {} ' ).format(num1,num2, num1/num2) \n",
    "    else:\n",
    "            return ('false: {} not divisible  {} ,   Divide the two numbers = {} ' ).format(num1,num2, num1/num2) \n",
    "        \n",
    "num1 = int(input('enter the largest number: '))\n",
    "    \n",
    "num2 = int(input('enter the smalest number: '))        \n",
    " \n",
    "print(check_number(num1 ,num2))"
   ]
  },
  {
   "cell_type": "markdown",
   "metadata": {},
   "source": [
    "### write a function to find the maximum and minimum numbers from a sequence of numbers."
   ]
  },
  {
   "cell_type": "code",
   "execution_count": 4,
   "metadata": {},
   "outputs": [
    {
     "name": "stdout",
     "output_type": "stream",
     "text": [
      "( maximum number =  25  )  (  minimum number = 1 )\n"
     ]
    }
   ],
   "source": [
    "list1=[1,5,9,3,5,4,2,20,25,19]\n",
    "\n",
    "# this function to find the maximum and minimum number from a list\n",
    "\n",
    "def max_min_num (list1) :\n",
    "    \n",
    "    maximum =list1[0]\n",
    "    \n",
    "    minimum =list1[0]\n",
    "    \n",
    "    for num in list1:\n",
    "        \n",
    "        if num >= maximum :\n",
    "            \n",
    "            maximum = num\n",
    "            \n",
    "        elif num < minimum:\n",
    "            \n",
    "            minimum = num\n",
    "            \n",
    "    return ('( maximum number =  {}  )  (  minimum number = {} )' .format(maximum,minimum) )\n",
    "\n",
    "print(max_min_num(list1))"
   ]
  },
  {
   "cell_type": "markdown",
   "metadata": {},
   "source": [
    "### Write a Python function that takes two lists and returns True if they have at least one common member."
   ]
  },
  {
   "cell_type": "code",
   "execution_count": 6,
   "metadata": {},
   "outputs": [
    {
     "name": "stdout",
     "output_type": "stream",
     "text": [
      "true\n"
     ]
    }
   ],
   "source": [
    "# this funtion returns true if they have at least one common member\n",
    "\n",
    "list1 = [1,2,3,4]\n",
    "\n",
    "list2 = [5,6,7,4]\n",
    "\n",
    "def common_member (list1,list2) :\n",
    "      \n",
    "    for num1 in list1:\n",
    "        \n",
    "        for num2 in list2:\n",
    "            \n",
    "            if num1 == num2:\n",
    "                \n",
    "                return 'true'\n",
    "            \n",
    "                \n",
    "    return 'false'\n",
    "        \n",
    "        \n",
    "print(common_member(list1,list2))"
   ]
  },
  {
   "cell_type": "markdown",
   "metadata": {},
   "source": [
    "### Write a Python function to calculate the factorial of a number (a non-negative integer). The function accepts the number from the user"
   ]
  },
  {
   "cell_type": "code",
   "execution_count": 7,
   "metadata": {},
   "outputs": [
    {
     "name": "stdout",
     "output_type": "stream",
     "text": [
      "enter positive number: 5\n",
      "120\n"
     ]
    }
   ],
   "source": [
    "# this a function to calculate the factorial of a number\n",
    "\n",
    "#  a non-negative integer.\n",
    "\n",
    "def fact(num):\n",
    "    \n",
    "    if num == 1 :\n",
    "        \n",
    "        return 1\n",
    "    \n",
    "    else:\n",
    "        \n",
    "        return num * fact(num-1)\n",
    "    \n",
    "num = int(input('enter positive number: '))\n",
    "\n",
    "\n",
    "if num <= 0 :\n",
    "    \n",
    "    print('Error, please enter positive number')\n",
    "    \n",
    "else:\n",
    "    \n",
    "    print(fact(num))\n",
    "   "
   ]
  },
  {
   "cell_type": "markdown",
   "metadata": {},
   "source": [
    "### Write a Python function to check whether a number is in a given range.\n",
    "\n",
    "### The range is from 3 to 11\n"
   ]
  },
  {
   "cell_type": "code",
   "execution_count": 8,
   "metadata": {},
   "outputs": [
    {
     "name": "stdout",
     "output_type": "stream",
     "text": [
      " false (15) out of range \n"
     ]
    }
   ],
   "source": [
    "# Write a Python function to check whether a number is in a given range.\n",
    "# The range is from 3 to 11\n",
    "\n",
    "def check_number_in_given (num):\n",
    "    \n",
    "    if num in range(3,12):\n",
    "        \n",
    "        return (' true {} in range ').format(num)\n",
    "    \n",
    "    else:\n",
    "        \n",
    "        return (' false ({}) out of range ').format(num)\n",
    "    \n",
    "print(check_number_in_given(15))"
   ]
  },
  {
   "cell_type": "markdown",
   "metadata": {},
   "source": [
    "### Write a  program to create the multiplication table (from 1 to 10) of a number."
   ]
  },
  {
   "cell_type": "code",
   "execution_count": 10,
   "metadata": {},
   "outputs": [
    {
     "name": "stdout",
     "output_type": "stream",
     "text": [
      "enter number of multiplication : 7\n",
      "multiplication table { 7 } from 1 to 10 is : \n",
      "7 * 1 = 7\n",
      "7 * 2 = 14\n",
      "7 * 3 = 21\n",
      "7 * 4 = 28\n",
      "7 * 5 = 35\n",
      "7 * 6 = 42\n",
      "7 * 7 = 49\n",
      "7 * 8 = 56\n",
      "7 * 9 = 63\n",
      "7 * 10 = 70\n"
     ]
    }
   ],
   "source": [
    "# program to create the multiplication table (from 1 to 10) of a number.\n",
    "\n",
    "def multiplication(num):\n",
    "    \n",
    "    for num_table in range (1,11):\n",
    "        \n",
    "        return num * num_table\n",
    "\n",
    "num_mult=int(input('enter number of multiplication : '))\n",
    "\n",
    "print('multiplication table {', num_mult ,'} from 1 to 10 is : ')\n",
    "\n",
    "for num_table in  range(1,11):\n",
    "    \n",
    "    print(num_mult, '*' , num_table, '=' , num_mult * num_table)\n",
    "    "
   ]
  },
  {
   "cell_type": "markdown",
   "metadata": {},
   "source": [
    "#### LESSER OF TWO EVENS: Write a function that returns the lesser of two given numbers *if* both numbers are even, but returns the greater if one or both numbers are odd\n",
    "    lesser_of_two_evens(2,4) --> 2\n",
    "    lesser_of_two_evens(2,5) --> 5"
   ]
  },
  {
   "cell_type": "code",
   "execution_count": 12,
   "metadata": {},
   "outputs": [
    {
     "name": "stdout",
     "output_type": "stream",
     "text": [
      "2\n",
      "5\n"
     ]
    }
   ],
   "source": [
    "# LESSER OF TWO EVENS: Write a function that returns the lesser of two given numbers if both numbers are even, \n",
    "# but returns the greater if one or both numbers are odd\n",
    "\n",
    "def check_num (num1,num2):\n",
    "    \n",
    "     # if num1 and num2 is even\n",
    "    \n",
    "    if num1 %2 == 0 and num2 %2 == 0 :    \n",
    "        \n",
    "        # print the smallest number\n",
    "        \n",
    "        if num1 > num2 :\n",
    "            \n",
    "            return num2\n",
    "        \n",
    "        elif num1 < num2 :\n",
    "            \n",
    "            return num1\n",
    "        \n",
    "     # if num1 and num2 is odd \n",
    "    \n",
    "    elif num1 %2 !=0 or num2 %2 !=0 :\n",
    "        \n",
    "        # print the greater number\n",
    "        \n",
    "        if num1 > num2 :\n",
    "            \n",
    "            return num1\n",
    "        \n",
    "        elif num1 < num2 :\n",
    "            \n",
    "            return num2\n",
    "        \n",
    "        else :\n",
    "            \n",
    "            return num2\n",
    "        \n",
    "print(check_num(2,4))\n",
    "\n",
    "print(check_num(2,5))"
   ]
  },
  {
   "cell_type": "code",
   "execution_count": null,
   "metadata": {},
   "outputs": [],
   "source": []
  }
 ],
 "metadata": {
  "kernelspec": {
   "display_name": "Python 3 (ipykernel)",
   "language": "python",
   "name": "python3"
  },
  "language_info": {
   "codemirror_mode": {
    "name": "ipython",
    "version": 3
   },
   "file_extension": ".py",
   "mimetype": "text/x-python",
   "name": "python",
   "nbconvert_exporter": "python",
   "pygments_lexer": "ipython3",
   "version": "3.9.12"
  }
 },
 "nbformat": 4,
 "nbformat_minor": 2
}
