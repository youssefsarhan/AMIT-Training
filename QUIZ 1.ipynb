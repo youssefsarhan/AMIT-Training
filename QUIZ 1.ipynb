{
 "cells": [
  {
   "cell_type": "code",
   "execution_count": 34,
   "id": "fb614b64",
   "metadata": {},
   "outputs": [
    {
     "name": "stdout",
     "output_type": "stream",
     "text": [
      "start\n",
      "s\n",
      "sentence\n"
     ]
    }
   ],
   "source": [
    "#create a Statement that will print out words that start with 's'\n",
    "\n",
    "st = 'Print only the words that start with s in this sentence'\n",
    "\n",
    "#first word\n",
    "\n",
    "for fstw in st.split():\n",
    "    \n",
    "    if fstw[0]=='s':\n",
    "        \n",
    "        print(fstw)\n",
    "        "
   ]
  },
  {
   "cell_type": "code",
   "execution_count": 7,
   "id": "d621304b",
   "metadata": {},
   "outputs": [
    {
     "name": "stdout",
     "output_type": "stream",
     "text": [
      "0\n",
      "2\n",
      "4\n",
      "6\n",
      "8\n",
      "10\n"
     ]
    }
   ],
   "source": [
    "#use range to print even number from (0 to 10)\n",
    "\n",
    "for num in range (0,11) :\n",
    "    \n",
    "    if num%2==0:\n",
    "        \n",
    "        print(num)\n",
    "        \n",
    "    "
   ]
  },
  {
   "cell_type": "code",
   "execution_count": 21,
   "id": "d4f50af4",
   "metadata": {},
   "outputs": [
    {
     "name": "stdout",
     "output_type": "stream",
     "text": [
      "[3, 6, 9, 12, 15, 18, 21, 24, 27, 30, 33, 36, 39, 42, 45, 48]\n"
     ]
    }
   ],
   "source": [
    "#create a list of all numbers between 1 and 50 that are divisible by 3#\n",
    "\n",
    "list = [x for x in range(1, 51) if x % 3 == 0]\n",
    "\n",
    "print(list)"
   ]
  },
  {
   "cell_type": "code",
   "execution_count": 39,
   "id": "41d4e81d",
   "metadata": {},
   "outputs": [
    {
     "name": "stdout",
     "output_type": "stream",
     "text": [
      "not difine\n",
      "not difine\n",
      "3  : Fizz\n",
      "not difine\n",
      "5  : Buzz\n",
      "6  : Fizz\n",
      "not difine\n",
      "not difine\n",
      "9  : Fizz\n",
      "10  : Buzz\n",
      "not difine\n",
      "12  : Fizz\n",
      "not difine\n",
      "not difine\n",
      "15  : FizzBuzz\n",
      "not difine\n",
      "not difine\n",
      "18  : Fizz\n",
      "not difine\n",
      "20  : Buzz\n",
      "21  : Fizz\n",
      "not difine\n",
      "not difine\n",
      "24  : Fizz\n",
      "25  : Buzz\n",
      "not difine\n",
      "27  : Fizz\n",
      "not difine\n",
      "not difine\n",
      "30  : FizzBuzz\n",
      "not difine\n",
      "not difine\n",
      "33  : Fizz\n",
      "not difine\n",
      "35  : Buzz\n",
      "36  : Fizz\n",
      "not difine\n",
      "not difine\n",
      "39  : Fizz\n",
      "40  : Buzz\n",
      "not difine\n",
      "42  : Fizz\n",
      "not difine\n",
      "not difine\n",
      "45  : FizzBuzz\n",
      "not difine\n",
      "not difine\n",
      "48  : Fizz\n",
      "not difine\n",
      "50  : Buzz\n",
      "51  : Fizz\n",
      "not difine\n",
      "not difine\n",
      "54  : Fizz\n",
      "55  : Buzz\n",
      "not difine\n",
      "57  : Fizz\n",
      "not difine\n",
      "not difine\n",
      "60  : FizzBuzz\n",
      "not difine\n",
      "not difine\n",
      "63  : Fizz\n",
      "not difine\n",
      "65  : Buzz\n",
      "66  : Fizz\n",
      "not difine\n",
      "not difine\n",
      "69  : Fizz\n",
      "70  : Buzz\n",
      "not difine\n",
      "72  : Fizz\n",
      "not difine\n",
      "not difine\n",
      "75  : FizzBuzz\n",
      "not difine\n",
      "not difine\n",
      "78  : Fizz\n",
      "not difine\n",
      "80  : Buzz\n",
      "81  : Fizz\n",
      "not difine\n",
      "not difine\n",
      "84  : Fizz\n",
      "85  : Buzz\n",
      "not difine\n",
      "87  : Fizz\n",
      "not difine\n",
      "not difine\n",
      "90  : FizzBuzz\n",
      "not difine\n",
      "not difine\n",
      "93  : Fizz\n",
      "not difine\n",
      "95  : Buzz\n",
      "96  : Fizz\n",
      "not difine\n",
      "not difine\n",
      "99  : Fizz\n",
      "100  : Buzz\n"
     ]
    }
   ],
   "source": [
    "#Write a program that prints the integers from 1 to 100. \n",
    "\n",
    "x= range(1,101)\n",
    "\n",
    "for y in x:\n",
    "    \n",
    "            \n",
    "#  For numbers which are multiples of both three and five print \"FizzBuzz\"\n",
    "        \n",
    "    if y%3 == 0 and y%5 == 0:\n",
    "        print(y ,' : FizzBuzz')\n",
    "        \n",
    "\n",
    "# But for multiples of three print \"Fizz\" instead of the number,    \n",
    "    \n",
    "    elif y%3 == 0:\n",
    "        print(y ,' : Fizz')\n",
    "        \n",
    "#  and for the multiples of five print \"Buzz\".\n",
    "        \n",
    "    elif y%5 == 0:\n",
    "        print(y ,' : Buzz')\n",
    "\n",
    "    else:\n",
    "        print('not difine')\n",
    "    \n",
    "  "
   ]
  },
  {
   "cell_type": "code",
   "execution_count": 20,
   "id": "6c8799f3",
   "metadata": {},
   "outputs": [
    {
     "data": {
      "text/plain": [
       "['C', 'a', 'l', 'o', 't', 'f', 'l', 'o', 'e', 'w', 'i', 't', 's']"
      ]
     },
     "execution_count": 20,
     "metadata": {},
     "output_type": "execute_result"
    }
   ],
   "source": [
    "#Use List Comprehension to create a list of the first letters of every word in the string below:\n",
    "\n",
    "st = 'Create a list of the first letters of every word in this string'\n",
    "\n",
    "st = ['Create', 'a', 'list', 'of', 'the', 'first', 'letters', 'of', 'every', 'word', 'in', 'this', 'string']\n",
    "\n",
    "fl=[st[0][0], st[1], st[2][0], st[3][0], st[4][0], st[5][0], st[6][0], st[7][0], st[8][0], st[9][0], st[10][0], st[11][0], st[12][0]]\n",
    "\n",
    "fl"
   ]
  },
  {
   "cell_type": "code",
   "execution_count": 32,
   "id": "726cd82b",
   "metadata": {},
   "outputs": [
    {
     "name": "stdout",
     "output_type": "stream",
     "text": [
      "word : is even\n",
      "in : is even\n",
      "this : is even\n",
      "sentence : is even\n",
      "that : is even\n",
      "an : is even\n",
      "even : is even\n",
      "number : is even\n",
      "of : is even\n"
     ]
    }
   ],
   "source": [
    "#Go through the string below and if the length of a word is even print \"even!\"**\n",
    "\n",
    "st = 'Print every word in this sentence that has an even number of letters'\n",
    "\n",
    "#splitting the words \n",
    "\n",
    "word=st.split(\" \")\n",
    "\n",
    "for i in word:\n",
    "    \n",
    "  #checking \n",
    "\n",
    "  if len(i)%2==0:\n",
    "        \n",
    "    print(i,': is even')"
   ]
  },
  {
   "cell_type": "code",
   "execution_count": null,
   "id": "3018f0b4",
   "metadata": {},
   "outputs": [],
   "source": []
  }
 ],
 "metadata": {
  "kernelspec": {
   "display_name": "Python 3 (ipykernel)",
   "language": "python",
   "name": "python3"
  },
  "language_info": {
   "codemirror_mode": {
    "name": "ipython",
    "version": 3
   },
   "file_extension": ".py",
   "mimetype": "text/x-python",
   "name": "python",
   "nbconvert_exporter": "python",
   "pygments_lexer": "ipython3",
   "version": "3.9.12"
  }
 },
 "nbformat": 4,
 "nbformat_minor": 5
}
