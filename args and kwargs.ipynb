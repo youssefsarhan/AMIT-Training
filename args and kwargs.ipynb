{
 "cells": [
  {
   "cell_type": "markdown",
   "id": "c0b9977f",
   "metadata": {},
   "source": [
    "# *args\n",
    "### It is a variable that you wrote in the function definition"
   ]
  },
  {
   "cell_type": "code",
   "execution_count": 2,
   "id": "9e42cccb",
   "metadata": {},
   "outputs": [
    {
     "name": "stdout",
     "output_type": "stream",
     "text": [
      "5\n"
     ]
    }
   ],
   "source": [
    "# Examble not use args\n",
    "\n",
    "def sum_nums(x,y):\n",
    "    \n",
    "    return x+y\n",
    "\n",
    "print (sum_nums(2,3))\n",
    "\n",
    "# If a number is add on the output without I defined it will be error"
   ]
  },
  {
   "cell_type": "code",
   "execution_count": 4,
   "id": "560a2194",
   "metadata": {},
   "outputs": [
    {
     "name": "stdout",
     "output_type": "stream",
     "text": [
      "6\n"
     ]
    }
   ],
   "source": [
    "# Examble use *args\n",
    "\n",
    "def sum_nums(*args):\n",
    "    \n",
    "    result = 0\n",
    "    \n",
    "    for x in args :\n",
    "        result += x\n",
    "        \n",
    "    return result\n",
    "\n",
    "print(sum_nums(1,2,3))\n",
    "\n",
    "# in this case can add any many number in output don't will be error"
   ]
  },
  {
   "cell_type": "code",
   "execution_count": 39,
   "id": "5dec61df",
   "metadata": {},
   "outputs": [
    {
     "name": "stdout",
     "output_type": "stream",
     "text": [
      "10\n"
     ]
    }
   ],
   "source": [
    "# another examble on *args + keyword argument\n",
    "\n",
    "def my_sum(a , b , *args , option=True):\n",
    "    \n",
    "    result = 0\n",
    "    \n",
    "    if option :\n",
    "        \n",
    "        for x in args :\n",
    "            \n",
    "            result += x\n",
    "            \n",
    "        return a + b + result\n",
    "\n",
    "    else:\n",
    "        \n",
    "        return result \n",
    "    \n",
    "print(my_sum(1,2,3,4))    "
   ]
  },
  {
   "cell_type": "code",
   "execution_count": 41,
   "id": "c7ea0095",
   "metadata": {},
   "outputs": [
    {
     "name": "stdout",
     "output_type": "stream",
     "text": [
      "youssef sarhan\n"
     ]
    }
   ],
   "source": [
    "# Examble use **kwargs\n",
    "\n",
    "def make_sentence (**kwargs):\n",
    "    \n",
    "    result = ''\n",
    "    \n",
    "    for x in kwargs.values() :\n",
    "        \n",
    "        result += x\n",
    "        \n",
    "    return result\n",
    "\n",
    "print(make_sentence(a='youssef ', b='sarhan'))"
   ]
  },
  {
   "cell_type": "code",
   "execution_count": 33,
   "id": "bbafe811",
   "metadata": {},
   "outputs": [
    {
     "name": "stdout",
     "output_type": "stream",
     "text": [
      "name : youssef\n",
      "job : developer\n",
      "age : 22\n",
      "-------------------------\n",
      "name : mohamed\n",
      "address : elzawya elhamra\n"
     ]
    }
   ],
   "source": [
    "# another examble use *kwargs\n",
    "\n",
    "def human_details(**kwargs):\n",
    "    \n",
    "    for key , value in kwargs.items() :\n",
    "        \n",
    "        print(f'{key} : {value}')\n",
    "        \n",
    "human_details(name='youssef',job='developer',age='22')\n",
    "print('-------------------------')\n",
    "human_details(name='mohamed',address='elzawya elhamra')"
   ]
  },
  {
   "cell_type": "code",
   "execution_count": 44,
   "id": "ee840157",
   "metadata": {},
   "outputs": [
    {
     "name": "stdout",
     "output_type": "stream",
     "text": [
      "1 2\n",
      "('youssef is args', 'sarhan is args')\n",
      "False\n",
      "{'name': 'sarhan', 'age': '22'}\n"
     ]
    }
   ],
   "source": [
    "# examble for *args and keyword argument and **kwargs\n",
    "\n",
    "def print_args(x,y,*args,option=True,**kwargs):\n",
    "    \n",
    "    #print two number only\n",
    "    print(x,y)\n",
    "    \n",
    "    #print any items\n",
    "    print(args)\n",
    "    \n",
    "    #print one keyword argument\n",
    "    print(option)\n",
    "    \n",
    "    #print many keywords argument\n",
    "    print(kwargs)\n",
    "    \n",
    "print_args(1,2,'youssef is args','sarhan is args',option=False,name='sarhan',age='22')    \n",
    "\n"
   ]
  },
  {
   "cell_type": "code",
   "execution_count": null,
   "id": "46481045",
   "metadata": {},
   "outputs": [],
   "source": []
  }
 ],
 "metadata": {
  "kernelspec": {
   "display_name": "Python 3 (ipykernel)",
   "language": "python",
   "name": "python3"
  },
  "language_info": {
   "codemirror_mode": {
    "name": "ipython",
    "version": 3
   },
   "file_extension": ".py",
   "mimetype": "text/x-python",
   "name": "python",
   "nbconvert_exporter": "python",
   "pygments_lexer": "ipython3",
   "version": "3.9.12"
  }
 },
 "nbformat": 4,
 "nbformat_minor": 5
}
